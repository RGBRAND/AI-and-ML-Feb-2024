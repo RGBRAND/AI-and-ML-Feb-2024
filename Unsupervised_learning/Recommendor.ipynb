{
 "cells": [
  {
   "cell_type": "code",
   "execution_count": 21,
   "metadata": {},
   "outputs": [],
   "source": [
    "import pandas as pd\n",
    "import numpy as np\n",
    "from nltk.corpus import stopwords\n",
    "import textblob\n",
    "from sklearn.feature_extraction.text import CountVectorizer, TfidfVectorizer\n",
    "from sklearn.metrics.pairwise import cosine_similarity\n",
    "\n",
    "# TFIDF (term freq- inverse document feq)\n",
    "# countvectorizer \n",
    "\n",
    "\n",
    "# for import \n",
    "# nltk\n",
    "# textblob "
   ]
  },
  {
   "cell_type": "code",
   "execution_count": 22,
   "metadata": {},
   "outputs": [
    {
     "data": {
      "text/html": [
       "<div>\n",
       "<style scoped>\n",
       "    .dataframe tbody tr th:only-of-type {\n",
       "        vertical-align: middle;\n",
       "    }\n",
       "\n",
       "    .dataframe tbody tr th {\n",
       "        vertical-align: top;\n",
       "    }\n",
       "\n",
       "    .dataframe thead th {\n",
       "        text-align: right;\n",
       "    }\n",
       "</style>\n",
       "<table border=\"1\" class=\"dataframe\">\n",
       "  <thead>\n",
       "    <tr style=\"text-align: right;\">\n",
       "      <th></th>\n",
       "      <th>Unnamed: 0</th>\n",
       "      <th>title</th>\n",
       "      <th>director</th>\n",
       "      <th>release_year</th>\n",
       "      <th>runtime</th>\n",
       "      <th>genre</th>\n",
       "      <th>rating</th>\n",
       "      <th>metascore</th>\n",
       "      <th>gross(M)</th>\n",
       "    </tr>\n",
       "  </thead>\n",
       "  <tbody>\n",
       "    <tr>\n",
       "      <th>0</th>\n",
       "      <td>0</td>\n",
       "      <td>The Shawshank Redemption</td>\n",
       "      <td>Frank Darabont</td>\n",
       "      <td>1994</td>\n",
       "      <td>142</td>\n",
       "      <td>Drama</td>\n",
       "      <td>9.3</td>\n",
       "      <td>82</td>\n",
       "      <td>28.34</td>\n",
       "    </tr>\n",
       "    <tr>\n",
       "      <th>1</th>\n",
       "      <td>1</td>\n",
       "      <td>The Godfather</td>\n",
       "      <td>Francis Ford Coppola</td>\n",
       "      <td>1972</td>\n",
       "      <td>175</td>\n",
       "      <td>Crime</td>\n",
       "      <td>9.2</td>\n",
       "      <td>100</td>\n",
       "      <td>134.97</td>\n",
       "    </tr>\n",
       "    <tr>\n",
       "      <th>2</th>\n",
       "      <td>1</td>\n",
       "      <td>The Godfather</td>\n",
       "      <td>Francis Ford Coppola</td>\n",
       "      <td>1972</td>\n",
       "      <td>175</td>\n",
       "      <td>Drama</td>\n",
       "      <td>9.2</td>\n",
       "      <td>100</td>\n",
       "      <td>134.97</td>\n",
       "    </tr>\n",
       "    <tr>\n",
       "      <th>3</th>\n",
       "      <td>2</td>\n",
       "      <td>The Dark Knight</td>\n",
       "      <td>Christopher Nolan</td>\n",
       "      <td>2008</td>\n",
       "      <td>152</td>\n",
       "      <td>Action</td>\n",
       "      <td>9.0</td>\n",
       "      <td>84</td>\n",
       "      <td>534.86</td>\n",
       "    </tr>\n",
       "    <tr>\n",
       "      <th>4</th>\n",
       "      <td>2</td>\n",
       "      <td>The Dark Knight</td>\n",
       "      <td>Christopher Nolan</td>\n",
       "      <td>2008</td>\n",
       "      <td>152</td>\n",
       "      <td>Crime</td>\n",
       "      <td>9.0</td>\n",
       "      <td>84</td>\n",
       "      <td>534.86</td>\n",
       "    </tr>\n",
       "  </tbody>\n",
       "</table>\n",
       "</div>"
      ],
      "text/plain": [
       "   Unnamed: 0                     title              director  release_year  \\\n",
       "0           0  The Shawshank Redemption        Frank Darabont          1994   \n",
       "1           1             The Godfather  Francis Ford Coppola          1972   \n",
       "2           1             The Godfather  Francis Ford Coppola          1972   \n",
       "3           2           The Dark Knight     Christopher Nolan          2008   \n",
       "4           2           The Dark Knight     Christopher Nolan          2008   \n",
       "\n",
       "   runtime   genre  rating  metascore  gross(M)  \n",
       "0      142   Drama     9.3         82     28.34  \n",
       "1      175   Crime     9.2        100    134.97  \n",
       "2      175   Drama     9.2        100    134.97  \n",
       "3      152  Action     9.0         84    534.86  \n",
       "4      152   Crime     9.0         84    534.86  "
      ]
     },
     "execution_count": 22,
     "metadata": {},
     "output_type": "execute_result"
    }
   ],
   "source": [
    "df = pd.read_csv(r'D:\\My Files\\Python_001\\AI and ML Feb 2024\\Unsupervised_learning\\imdb_clean.csv')\n",
    "df.head(5)"
   ]
  },
  {
   "cell_type": "code",
   "execution_count": 23,
   "metadata": {},
   "outputs": [
    {
     "data": {
      "text/plain": [
       "0       The Shawshank Redemption Frank Darabont Drama\n",
       "1            The Godfather Francis Ford Coppola Crime\n",
       "2            The Godfather Francis Ford Coppola Drama\n",
       "3            The Dark Knight Christopher Nolan Action\n",
       "4             The Dark Knight Christopher Nolan Crime\n",
       "                            ...                      \n",
       "2527             The Invisible Man James Whale Horror\n",
       "2528             The Invisible Man James Whale Sci-Fi\n",
       "2529                    Cell 211 Daniel Monzón Action\n",
       "2530                     Cell 211 Daniel Monzón Crime\n",
       "2531                     Cell 211 Daniel Monzón Drama\n",
       "Name: data, Length: 2532, dtype: object"
      ]
     },
     "execution_count": 23,
     "metadata": {},
     "output_type": "execute_result"
    }
   ],
   "source": [
    "df['data'] = df['title'] + ' ' + df['director'] + ' ' + df['genre']\n",
    "df['data']"
   ]
  },
  {
   "cell_type": "code",
   "execution_count": 24,
   "metadata": {},
   "outputs": [],
   "source": [
    "# remive punctuation \n",
    "\n",
    "df['data'] = df['data'].str.replace('[^\\w\\s]','')\n",
    "#lower case\n",
    "df['data'] = df['data'].str.lower()"
   ]
  },
  {
   "cell_type": "code",
   "execution_count": 25,
   "metadata": {},
   "outputs": [
    {
     "data": {
      "text/plain": [
       "0       the shawshank redemption frank darabont drama\n",
       "1            the godfather francis ford coppola crime\n",
       "2            the godfather francis ford coppola drama\n",
       "3            the dark knight christopher nolan action\n",
       "4             the dark knight christopher nolan crime\n",
       "                            ...                      \n",
       "2527             the invisible man james whale horror\n",
       "2528             the invisible man james whale sci-fi\n",
       "2529                    cell 211 daniel monzón action\n",
       "2530                     cell 211 daniel monzón crime\n",
       "2531                     cell 211 daniel monzón drama\n",
       "Name: data, Length: 2532, dtype: object"
      ]
     },
     "execution_count": 25,
     "metadata": {},
     "output_type": "execute_result"
    }
   ],
   "source": [
    "df['data']"
   ]
  },
  {
   "cell_type": "code",
   "execution_count": 26,
   "metadata": {},
   "outputs": [
    {
     "data": {
      "text/plain": [
       "0       shawshank redemption frank darabont drama\n",
       "1            godfather francis ford coppola crime\n",
       "2            godfather francis ford coppola drama\n",
       "3            dark knight christopher nolan action\n",
       "4             dark knight christopher nolan crime\n",
       "                          ...                    \n",
       "2527             invisible man james whale horror\n",
       "2528             invisible man james whale sci-fi\n",
       "2529                cell 211 daniel monzón action\n",
       "2530                 cell 211 daniel monzón crime\n",
       "2531                 cell 211 daniel monzón drama\n",
       "Name: data, Length: 2532, dtype: object"
      ]
     },
     "execution_count": 26,
     "metadata": {},
     "output_type": "execute_result"
    }
   ],
   "source": [
    "def remove_stopwords (text):\n",
    "    words = text.split()\n",
    "    return \" \".join([word for word in words if word not in stopwords.words('english')])\n",
    "df['data'] = df['data'].apply(remove_stopwords)\n",
    "df['data']"
   ]
  },
  {
   "cell_type": "code",
   "execution_count": 27,
   "metadata": {},
   "outputs": [
    {
     "name": "stderr",
     "output_type": "stream",
     "text": [
      "[nltk_data] Downloading package stopwords to C:\\Users\\HP\n",
      "[nltk_data]     PC\\AppData\\Roaming\\nltk_data...\n",
      "[nltk_data]   Package stopwords is already up-to-date!\n"
     ]
    },
    {
     "data": {
      "text/plain": [
       "True"
      ]
     },
     "execution_count": 27,
     "metadata": {},
     "output_type": "execute_result"
    }
   ],
   "source": [
    "# for revome error (error; stopword not found)\n",
    "import nltk\n",
    "nltk.download('stopwords')"
   ]
  },
  {
   "cell_type": "code",
   "execution_count": 28,
   "metadata": {},
   "outputs": [
    {
     "data": {
      "text/plain": [
       "array([[0, 0, 0, ..., 0, 0, 0],\n",
       "       [0, 0, 0, ..., 0, 0, 0],\n",
       "       [0, 0, 0, ..., 0, 0, 0],\n",
       "       ...,\n",
       "       [0, 0, 0, ..., 0, 0, 0],\n",
       "       [0, 0, 0, ..., 0, 0, 0],\n",
       "       [0, 0, 0, ..., 0, 0, 0]], dtype=int64)"
      ]
     },
     "execution_count": 28,
     "metadata": {},
     "output_type": "execute_result"
    }
   ],
   "source": [
    "# vectorize the data \n",
    "vectorizer = CountVectorizer()\n",
    "X = vectorizer.fit_transform(df['data']).toarray()\n",
    "X \n"
   ]
  },
  {
   "cell_type": "code",
   "execution_count": 29,
   "metadata": {},
   "outputs": [
    {
     "data": {
      "text/plain": [
       "(2532, 2267)"
      ]
     },
     "execution_count": 29,
     "metadata": {},
     "output_type": "execute_result"
    }
   ],
   "source": [
    "X.shape"
   ]
  },
  {
   "cell_type": "code",
   "execution_count": 30,
   "metadata": {},
   "outputs": [
    {
     "data": {
      "text/plain": [
       "array([[1. , 0. , 0.2, ..., 0. , 0. , 0.2],\n",
       "       [0. , 1. , 0.8, ..., 0. , 0.2, 0. ],\n",
       "       [0.2, 0.8, 1. , ..., 0. , 0. , 0.2],\n",
       "       ...,\n",
       "       [0. , 0. , 0. , ..., 1. , 0.8, 0.8],\n",
       "       [0. , 0.2, 0. , ..., 0.8, 1. , 0.8],\n",
       "       [0.2, 0. , 0.2, ..., 0.8, 0.8, 1. ]])"
      ]
     },
     "execution_count": 30,
     "metadata": {},
     "output_type": "execute_result"
    }
   ],
   "source": [
    "# similarity Matrix \n",
    "similarity = cosine_similarity(X, X)\n",
    "similarity"
   ]
  },
  {
   "cell_type": "code",
   "execution_count": 31,
   "metadata": {},
   "outputs": [
    {
     "data": {
      "text/plain": [
       "(2532, 2532)"
      ]
     },
     "execution_count": 31,
     "metadata": {},
     "output_type": "execute_result"
    }
   ],
   "source": [
    "similarity.shape\n"
   ]
  },
  {
   "cell_type": "code",
   "execution_count": 34,
   "metadata": {},
   "outputs": [],
   "source": [
    "def get_index_from_title(title):\n",
    "    try:\n",
    "        return df[df.title == title].index[0]\n",
    "    except:\n",
    "        return None\n",
    "    \n",
    "def recommend_movie(title, limit =10):\n",
    "    index = get_index_from_title(title)\n",
    "    if index is None:\n",
    "        return []\n",
    "    else:\n",
    "        movie_scores = []\n",
    "        for i in range(similarity.shape[0]):\n",
    "            movie_scores.append((df['title'][i], similarity[index][i]))\n",
    "        movie_scores.sort(key= lambda X: X[1], reverse=True)\n",
    "        return movie_scores[1:limit + 1]"
   ]
  },
  {
   "cell_type": "code",
   "execution_count": 35,
   "metadata": {},
   "outputs": [
    {
     "data": {
      "text/plain": [
       "[('Harry Potter and the Goblet of Fire', 0.8571428571428569),\n",
       " ('Harry Potter and the Goblet of Fire', 0.8571428571428569),\n",
       " ('Harry Potter and the Prisoner of Azkaban', 0.4285714285714285),\n",
       " (\"Harry Potter and the Sorcerer's Stone\", 0.4285714285714285),\n",
       " ('Harry Potter and the Deathly Hallows: Part 2', 0.40089186286863654)]"
      ]
     },
     "execution_count": 35,
     "metadata": {},
     "output_type": "execute_result"
    }
   ],
   "source": [
    "recommend_movie('Harry Potter and the Goblet of Fire', 5)"
   ]
  },
  {
   "cell_type": "code",
   "execution_count": null,
   "metadata": {},
   "outputs": [],
   "source": []
  }
 ],
 "metadata": {
  "kernelspec": {
   "display_name": "base",
   "language": "python",
   "name": "python3"
  },
  "language_info": {
   "codemirror_mode": {
    "name": "ipython",
    "version": 3
   },
   "file_extension": ".py",
   "mimetype": "text/x-python",
   "name": "python",
   "nbconvert_exporter": "python",
   "pygments_lexer": "ipython3",
   "version": "3.9.12"
  }
 },
 "nbformat": 4,
 "nbformat_minor": 2
}
